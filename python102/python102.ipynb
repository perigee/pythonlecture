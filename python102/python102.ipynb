{
 "metadata": {
  "name": "python102"
 }, 
 "nbformat": 2, 
 "worksheets": [
  {
   "cells": [
    {
     "cell_type": "code", 
     "collapsed": true, 
     "input": [], 
     "language": "python", 
     "outputs": [], 
     "prompt_number": 34
    }, 
    {
     "cell_type": "markdown", 
     "source": [
      "#Python 102", 
      "", 
      "", 
      "", 
      "> - OO makes code understandable by encapsulating moving parts.", 
      "> - FP makes code understandable by minimizing moving parts.", 
      ">", 
      "> -- by Michael Feathers", 
      "", 
      "", 
      "", 
      "##Object-oriented (OO)", 
      "", 
      "###Magic functions", 
      "", 
      "##Functional programming (FP)", 
      "", 
      "###Python MetaClasses"
     ]
    }, 
    {
     "cell_type": "markdown", 
     "source": [
      "#### ", 
      "", 
      "- **___init___**", 
      "- **___call___** method", 
      "- **___new___**", 
      "", 
      "Give an instance call capability"
     ]
    }, 
    {
     "cell_type": "code", 
     "collapsed": true, 
     "input": [
      "class MyBase(object):", 
      "    def __init__(self):", 
      "        pass", 
      "    ", 
      "    def basecall(self):", 
      "        print 'MyBase: basecall'", 
      "", 
      "class MyCall(MyBase):", 
      "    def __init__(self):", 
      "        pass", 
      "", 
      "    def callme(self):", 
      "        print 'somebody called me'", 
      "        ", 
      "    def select(self):", 
      "        print 'somebody selected me'", 
      "        ", 
      "    def __call__(self, msg):", 
      "        print msg"
     ], 
     "language": "python", 
     "outputs": [], 
     "prompt_number": 35
    }, 
    {
     "cell_type": "code", 
     "collapsed": true, 
     "input": [
      "mycall = MyCall()"
     ], 
     "language": "python", 
     "outputs": [], 
     "prompt_number": 36
    }, 
    {
     "cell_type": "code", 
     "collapsed": false, 
     "input": [
      "mycall"
     ], 
     "language": "python", 
     "outputs": [
      {
       "output_type": "pyout", 
       "prompt_number": 37, 
       "text": [
        "<__main__.MyCall at 0x2305690>"
       ]
      }
     ], 
     "prompt_number": 37
    }, 
    {
     "cell_type": "code", 
     "collapsed": false, 
     "input": [
      "mycall('message to me')"
     ], 
     "language": "python", 
     "outputs": [
      {
       "output_type": "stream", 
       "stream": "stdout", 
       "text": [
        "message to me"
       ]
      }
     ], 
     "prompt_number": 38
    }, 
    {
     "cell_type": "code", 
     "collapsed": false, 
     "input": [
      "mycall.callme()"
     ], 
     "language": "python", 
     "outputs": [
      {
       "output_type": "stream", 
       "stream": "stdout", 
       "text": [
        "somebody called me"
       ]
      }
     ], 
     "prompt_number": 39
    }, 
    {
     "cell_type": "markdown", 
     "source": [
      "#### list all methods", 
      "", 
      "- The **___dict___** lists the attributes as FunctionType and Properties", 
      "- **___dict___** only lists the current instance level attributes", 
      "- **inspect.getmembers** lists all attributes (also from super class) in MethodType", 
      "- module **inspect** inspect live objects "
     ]
    }, 
    {
     "cell_type": "code", 
     "collapsed": false, 
     "input": [
      "import inspect, types", 
      "", 
      "print '======= __dict__ method'", 
      "for name, attribute in inspect.getmembers(mycall, predicate=inspect.ismethod):#type(mycall).__dict__.items():", 
      "    #if type(attribute) is types.FunctionType:", 
      "    print name", 
      "    ", 
      "print ", 
      "", 
      "print '======= getmembers method'", 
      "for key, attr in inspect.getmembers(mycall):", 
      "    print key", 
      "    ", 
      "keyss =  type(mycall).__dict__.keys()", 
      "print keyss", 
      "keyss = [name for name in keyss if not name.startswith('_')]", 
      "print keyss"
     ], 
     "language": "python", 
     "outputs": [
      {
       "ename": "NameError", 
       "evalue": "name 'mycall' is not defined", 
       "output_type": "pyerr", 
       "traceback": [
        "\u001b[0;31m---------------------------------------------------------------------------\u001b[0m\n\u001b[0;31mNameError\u001b[0m                                 Traceback (most recent call last)", 
        "\u001b[0;32m/home/jhu/working/pythonlecture/python102/<ipython-input-1-5e7389ebc61d>\u001b[0m in \u001b[0;36m<module>\u001b[0;34m()\u001b[0m\n\u001b[1;32m      2\u001b[0m \u001b[0;34m\u001b[0m\u001b[0m\n\u001b[1;32m      3\u001b[0m \u001b[0;32mprint\u001b[0m \u001b[0;34m'======= __dict__ method'\u001b[0m\u001b[0;34m\u001b[0m\u001b[0m\n\u001b[0;32m----> 4\u001b[0;31m \u001b[0;32mfor\u001b[0m \u001b[0mname\u001b[0m\u001b[0;34m,\u001b[0m \u001b[0mattribute\u001b[0m \u001b[0;32min\u001b[0m \u001b[0minspect\u001b[0m\u001b[0;34m.\u001b[0m\u001b[0mgetmembers\u001b[0m\u001b[0;34m(\u001b[0m\u001b[0mmycall\u001b[0m\u001b[0;34m,\u001b[0m \u001b[0mpredicate\u001b[0m\u001b[0;34m=\u001b[0m\u001b[0minspect\u001b[0m\u001b[0;34m.\u001b[0m\u001b[0mismethod\u001b[0m\u001b[0;34m)\u001b[0m\u001b[0;34m:\u001b[0m\u001b[0;31m#type(mycall).__dict__.items():\u001b[0m\u001b[0;34m\u001b[0m\u001b[0m\n\u001b[0m\u001b[1;32m      5\u001b[0m     \u001b[0;31m#if type(attribute) is types.FunctionType:\u001b[0m\n\u001b[0;34m\u001b[0m\u001b[0m\n\u001b[1;32m      6\u001b[0m     \u001b[0;32mprint\u001b[0m \u001b[0mname\u001b[0m\u001b[0;34m\u001b[0m\u001b[0m\n", 
        "\u001b[0;31mNameError\u001b[0m: name 'mycall' is not defined"
       ]
      }, 
      {
       "output_type": "stream", 
       "stream": "stdout", 
       "text": [
        "======= __dict__ method"
       ]
      }
     ], 
     "prompt_number": 1
    }, 
    {
     "cell_type": "markdown", 
     "source": [
      "Implementing **___getattr___** overrides Python's default mechanism for member access, only add the "
     ]
    }, 
    {
     "cell_type": "code", 
     "collapsed": true, 
     "input": [
      "class T:", 
      "    def callme(self):", 
      "        print 'T: callme'", 
      "    ", 
      "    def setme(self):", 
      "        print 'T: setme'", 
      "        ", 
      "class WrapT:", 
      "    def __init__(self, t):", 
      "        self.t = t", 
      "        ", 
      "    def __getattr__(self,name):", 
      "        return getattr(self.t, name)", 
      "", 
      "    ", 
      "    def setme(self):", 
      "        print 'WrapT: setme'", 
      "       "
     ], 
     "language": "python", 
     "outputs": [], 
     "prompt_number": 2
    }, 
    {
     "cell_type": "code", 
     "collapsed": false, 
     "input": [
      "t = T()", 
      "wt = WrapT(t)", 
      "t.setme()", 
      "wt.setme()"
     ], 
     "language": "python", 
     "outputs": [
      {
       "output_type": "stream", 
       "stream": "stdout", 
       "text": [
        "T: setme", 
        "WrapT: setme"
       ]
      }
     ], 
     "prompt_number": 3
    }, 
    {
     "cell_type": "code", 
     "collapsed": false, 
     "input": [
      "wt.callme()"
     ], 
     "language": "python", 
     "outputs": [
      {
       "output_type": "stream", 
       "stream": "stdout", 
       "text": [
        "T: callme"
       ]
      }
     ], 
     "prompt_number": 4
    }, 
    {
     "cell_type": "code", 
     "collapsed": false, 
     "input": [
      "wt.callyou()"
     ], 
     "language": "python", 
     "outputs": [
      {
       "ename": "AttributeError", 
       "evalue": "T instance has no attribute 'callyou'", 
       "output_type": "pyerr", 
       "traceback": [
        "\u001b[0;31m---------------------------------------------------------------------------\u001b[0m\n\u001b[0;31mAttributeError\u001b[0m                            Traceback (most recent call last)", 
        "\u001b[0;32m/home/jhu/working/pythonlecture/python102/<ipython-input-5-2dbf7ce9df60>\u001b[0m in \u001b[0;36m<module>\u001b[0;34m()\u001b[0m\n\u001b[0;32m----> 1\u001b[0;31m \u001b[0mwt\u001b[0m\u001b[0;34m.\u001b[0m\u001b[0mcallyou\u001b[0m\u001b[0;34m(\u001b[0m\u001b[0;34m)\u001b[0m\u001b[0;34m\u001b[0m\u001b[0m\n\u001b[0m", 
        "\u001b[0;32m/home/jhu/working/pythonlecture/python102/<ipython-input-2-1058f2f735b0>\u001b[0m in \u001b[0;36m__getattr__\u001b[0;34m(self, name)\u001b[0m\n\u001b[1;32m     11\u001b[0m \u001b[0;34m\u001b[0m\u001b[0m\n\u001b[1;32m     12\u001b[0m     \u001b[0;32mdef\u001b[0m \u001b[0m__getattr__\u001b[0m\u001b[0;34m(\u001b[0m\u001b[0mself\u001b[0m\u001b[0;34m,\u001b[0m\u001b[0mname\u001b[0m\u001b[0;34m)\u001b[0m\u001b[0;34m:\u001b[0m\u001b[0;34m\u001b[0m\u001b[0m\n\u001b[0;32m---> 13\u001b[0;31m         \u001b[0;32mreturn\u001b[0m \u001b[0mgetattr\u001b[0m\u001b[0;34m(\u001b[0m\u001b[0mself\u001b[0m\u001b[0;34m.\u001b[0m\u001b[0mt\u001b[0m\u001b[0;34m,\u001b[0m \u001b[0mname\u001b[0m\u001b[0;34m)\u001b[0m\u001b[0;34m\u001b[0m\u001b[0m\n\u001b[0m\u001b[1;32m     14\u001b[0m \u001b[0;34m\u001b[0m\u001b[0m\n\u001b[1;32m     15\u001b[0m \u001b[0;34m\u001b[0m\u001b[0m\n", 
        "\u001b[0;31mAttributeError\u001b[0m: T instance has no attribute 'callyou'"
       ]
      }
     ], 
     "prompt_number": 5
    }, 
    {
     "cell_type": "markdown", 
     "source": [
      "#### **___setattr___** allows you to override Python's default mechanism for member assignment. The **repr** (**str**) function will be detailed later."
     ]
    }, 
    {
     "cell_type": "code", 
     "collapsed": false, 
     "input": [
      "class OverrideAccepted(object):", 
      "    def __init__(self):", 
      "        self.a = 'a'", 
      "        self.b = 'b'", 
      "", 
      "    def __setattr__(self, name, value):", 
      "        print 'set %s to %s' % (name, repr(value))", 
      "", 
      "        if name in ('a', 'b'):", 
      "            object.__setattr__(self, name, value)", 
      "", 
      "class OverrideNoAccepted:", 
      "    def __init__(self):", 
      "        self.a = 'no accept a'", 
      "            ", 
      "t = OverrideAccepted()", 
      "t.c = 'z'", 
      "setattr(t, 'd', '888')", 
      "tna = OverrideNoAccepted()", 
      "print tna.a", 
      "print tna.c"
     ], 
     "language": "python", 
     "outputs": [
      {
       "ename": "AttributeError", 
       "evalue": "OverrideNoAccepted instance has no attribute 'c'", 
       "output_type": "pyerr", 
       "traceback": [
        "\u001b[0;31m---------------------------------------------------------------------------\u001b[0m\n\u001b[0;31mAttributeError\u001b[0m                            Traceback (most recent call last)", 
        "\u001b[0;32m/home/jhu/working/pythonlecture/python102/<ipython-input-7-5418be6e6bfb>\u001b[0m in \u001b[0;36m<module>\u001b[0;34m()\u001b[0m\n\u001b[1;32m     19\u001b[0m \u001b[0mtna\u001b[0m \u001b[0;34m=\u001b[0m \u001b[0mOverrideNoAccepted\u001b[0m\u001b[0;34m(\u001b[0m\u001b[0;34m)\u001b[0m\u001b[0;34m\u001b[0m\u001b[0m\n\u001b[1;32m     20\u001b[0m \u001b[0;32mprint\u001b[0m \u001b[0mtna\u001b[0m\u001b[0;34m.\u001b[0m\u001b[0ma\u001b[0m\u001b[0;34m\u001b[0m\u001b[0m\n\u001b[0;32m---> 21\u001b[0;31m \u001b[0;32mprint\u001b[0m \u001b[0mtna\u001b[0m\u001b[0;34m.\u001b[0m\u001b[0mc\u001b[0m\u001b[0;34m\u001b[0m\u001b[0m\n\u001b[0m", 
        "\u001b[0;31mAttributeError\u001b[0m: OverrideNoAccepted instance has no attribute 'c'"
       ]
      }, 
      {
       "output_type": "stream", 
       "stream": "stdout", 
       "text": [
        "set a to 'a'", 
        "set b to 'b'", 
        "set c to 'z'", 
        "set d to '888'", 
        "no accept a"
       ]
      }
     ], 
     "prompt_number": 7
    }, 
    {
     "cell_type": "code", 
     "collapsed": true, 
     "input": [], 
     "language": "python", 
     "outputs": []
    }
   ]
  }
 ]
}