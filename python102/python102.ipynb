{
 "metadata": {
  "name": "python102"
 }, 
 "nbformat": 2, 
 "worksheets": [
  {
   "cells": [
    {
     "cell_type": "markdown", 
     "source": [
      "#Python 102", 
      "", 
      "##Magic functions"
     ]
    }
   ]
  }
 ]
}